{
 "cells": [
  {
   "cell_type": "code",
   "execution_count": 13,
   "id": "f21e6f65-10c8-4722-9243-b499fef8c503",
   "metadata": {},
   "outputs": [
    {
     "name": "stdout",
     "output_type": "stream",
     "text": [
      "Veri setinin ilk 5 satırı:\n",
      "                                             content category  \\\n",
      "0  Dışişleri Bakanı Davutoğlu, Yunanistan ile Tür...    dünya   \n",
      "1  İsrail Gazze Şeridi'nin kuzeyindeki bir tarlay...    dünya   \n",
      "2  Lübnan'ın başkenti Beyrut'ta düzenlenen bombal...    dünya   \n",
      "3  KKTC'de Sendikal Platform genel grev başlattı....    dünya   \n",
      "4  Türkiye'den yola çıkan Başak Bulut, Seçil Öznu...    dünya   \n",
      "\n",
      "                                            headline  \n",
      "0                           'Ortak vizyonumuz var'\\r  \n",
      "1        İsrail'den Gazze Şeridi'ne hava saldırısı\\r  \n",
      "2      Cenaze için geniş güvenlik önlemleri alındı\\r  \n",
      "3                Gözaltındaki sendikacılar serbest\\r  \n",
      "4  Bisikletle Asya'da 3 bin kilometre yol katetti...  \n",
      "\n",
      "Sütun isimleri:\n",
      "Index(['content', 'category', 'headline'], dtype='object')\n",
      "\n",
      "Veri seti bilgisi:\n",
      "<class 'pandas.core.frame.DataFrame'>\n",
      "RangeIndex: 41991 entries, 0 to 41990\n",
      "Data columns (total 3 columns):\n",
      " #   Column    Non-Null Count  Dtype \n",
      "---  ------    --------------  ----- \n",
      " 0   content   41991 non-null  object\n",
      " 1   category  41991 non-null  object\n",
      " 2   headline  41991 non-null  object\n",
      "dtypes: object(3)\n",
      "memory usage: 984.3+ KB\n",
      "None\n"
     ]
    }
   ],
   "source": [
    "import pandas as pd\n",
    "import numpy as np\n",
    "import re\n",
    "from sklearn.model_selection import train_test_split\n",
    "from sklearn.feature_extraction.text import TfidfVectorizer\n",
    "from sklearn.linear_model import LogisticRegression\n",
    "from sklearn.naive_bayes import MultinomialNB\n",
    "from sklearn.metrics import accuracy_score, confusion_matrix, classification_report\n",
    "\n",
    "\n",
    "file_path = \"news.xls\"\n",
    "\n",
    "\n",
    "\n",
    "\n",
    "data = pd.read_excel(file_path)\n",
    "\n",
    "\n",
    "print(\"Veri setinin ilk 5 satırı:\")\n",
    "print(data.head())\n",
    "\n",
    "\n",
    "print(\"\\nSütun isimleri:\")\n",
    "print(data.columns)\n",
    "\n",
    "\n",
    "print(\"\\nVeri seti bilgisi:\")\n",
    "print(data.info())\n",
    "\n"
   ]
  },
  {
   "cell_type": "code",
   "execution_count": 14,
   "id": "73f22875-d450-4bea-b324-d0b4a62addfc",
   "metadata": {},
   "outputs": [
    {
     "name": "stdout",
     "output_type": "stream",
     "text": [
      "Requirement already satisfied: xlrd in c:\\users\\enes\\appdata\\local\\programs\\python\\python313\\lib\\site-packages (2.0.1)\n",
      "Note: you may need to restart the kernel to use updated packages.\n"
     ]
    },
    {
     "name": "stderr",
     "output_type": "stream",
     "text": [
      "\n",
      "[notice] A new release of pip is available: 25.0.1 -> 25.1.1\n",
      "[notice] To update, run: python.exe -m pip install --upgrade pip\n"
     ]
    }
   ],
   "source": [
    "pip install xlrd"
   ]
  },
  {
   "cell_type": "code",
   "execution_count": 18,
   "id": "831f779b-383d-4d8a-8efd-3705bd72d403",
   "metadata": {},
   "outputs": [],
   "source": [
    "texts = data['content'].astype(str)    # Haber metinleri\n",
    "labels = data['category'].astype(str)  # Kategoriler\n",
    "\n"
   ]
  },
  {
   "cell_type": "code",
   "execution_count": 20,
   "id": "af81290c-1f34-40a3-994b-2d15c234ea13",
   "metadata": {},
   "outputs": [],
   "source": [
    "def clean_text(text):\n",
    "    text = text.lower()                       # Küçük harfe çevir\n",
    "    text = re.sub(r'\\d+', '', text)           # Sayıları kaldır\n",
    "    text = re.sub(r'\\W', ' ', text)           # Noktalama işaretlerini kaldır\n",
    "    text = re.sub(r'\\s+', ' ', text).strip() # Fazla boşlukları temizle\n",
    "    return text\n",
    "\n",
    "texts = texts.apply(clean_text)\n"
   ]
  },
  {
   "cell_type": "code",
   "execution_count": 21,
   "id": "673a0f24-92a7-408f-8d58-386d6289eb80",
   "metadata": {},
   "outputs": [],
   "source": [
    "X_train, X_test, y_train, y_test = train_test_split(\n",
    "    texts, labels, test_size=0.2, random_state=42, stratify=labels)\n"
   ]
  },
  {
   "cell_type": "code",
   "execution_count": 22,
   "id": "11c5b9d9-d6dd-4cba-850b-d7c1d7c178b7",
   "metadata": {},
   "outputs": [],
   "source": [
    "vectorizer = TfidfVectorizer(max_features=5000)\n",
    "X_train_tfidf = vectorizer.fit_transform(X_train)\n",
    "X_test_tfidf = vectorizer.transform(X_test)\n"
   ]
  },
  {
   "cell_type": "code",
   "execution_count": 23,
   "id": "aaf2c5e6-ae95-4ce9-abe4-da9ccd323413",
   "metadata": {},
   "outputs": [],
   "source": [
    "lr_model = LogisticRegression(max_iter=1000)\n",
    "lr_model.fit(X_train_tfidf, y_train)\n",
    "y_pred_lr = lr_model.predict(X_test_tfidf)\n"
   ]
  },
  {
   "cell_type": "code",
   "execution_count": 24,
   "id": "75ad0638-7bfb-4924-aba5-c0feefec618b",
   "metadata": {},
   "outputs": [],
   "source": [
    "nb_model = MultinomialNB()\n",
    "nb_model.fit(X_train_tfidf, y_train)\n",
    "y_pred_nb = nb_model.predict(X_test_tfidf)\n"
   ]
  },
  {
   "cell_type": "code",
   "execution_count": 30,
   "id": "62fc7ec0-a257-4e90-937e-fd5f3f309b36",
   "metadata": {},
   "outputs": [
    {
     "name": "stdout",
     "output_type": "stream",
     "text": [
      "Logistic Regression Accuracy: 0.5587569948803429\n",
      "Naive Bayes Accuracy: 0.5420883438504583\n",
      "\n",
      "Logistic Regression Classification Report:\n",
      "              precision    recall  f1-score   support\n",
      "\n",
      "       dünya       0.53      0.53      0.53       745\n",
      "     ekonomi       0.58      0.59      0.58       653\n",
      "       genel       0.31      0.32      0.31      1334\n",
      "      güncel       0.50      0.62      0.55      1169\n",
      "kültür-sanat       0.67      0.45      0.54       231\n",
      "     magazin       0.66      0.55      0.60       558\n",
      "      planet       0.48      0.25      0.33       391\n",
      "      sağlık       0.67      0.48      0.56       277\n",
      "     siyaset       0.43      0.33      0.37       370\n",
      "        spor       0.72      0.96      0.82      2000\n",
      "   teknoloji       0.65      0.43      0.52       154\n",
      "     türkiye       0.26      0.05      0.08       388\n",
      "       yaşam       0.67      0.02      0.03       129\n",
      "\n",
      "    accuracy                           0.56      8399\n",
      "   macro avg       0.55      0.43      0.45      8399\n",
      "weighted avg       0.54      0.56      0.53      8399\n",
      "\n",
      "\n",
      "Naive Bayes Classification Report:\n",
      "              precision    recall  f1-score   support\n",
      "\n",
      "       dünya       0.49      0.54      0.51       745\n",
      "     ekonomi       0.59      0.59      0.59       653\n",
      "       genel       0.29      0.35      0.31      1334\n",
      "      güncel       0.49      0.68      0.57      1169\n",
      "kültür-sanat       0.77      0.25      0.37       231\n",
      "     magazin       0.68      0.54      0.60       558\n",
      "      planet       0.67      0.03      0.06       391\n",
      "      sağlık       0.75      0.40      0.52       277\n",
      "     siyaset       0.39      0.29      0.33       370\n",
      "        spor       0.71      0.95      0.81      2000\n",
      "   teknoloji       0.65      0.08      0.15       154\n",
      "     türkiye       0.67      0.01      0.01       388\n",
      "       yaşam       0.00      0.00      0.00       129\n",
      "\n",
      "    accuracy                           0.54      8399\n",
      "   macro avg       0.55      0.36      0.37      8399\n",
      "weighted avg       0.55      0.54      0.50      8399\n",
      "\n",
      "\n",
      "Logistic Regression Confusion Matrix:\n",
      "[[ 396   18   95   43    4    8   46    6    5  120    3    1    0]\n",
      " [  11  384  156   35    2    2    7    2    6   39    7    2    0]\n",
      " [ 111  174  431  207   26   83   39   33   63  141   13   13    0]\n",
      " [  43   28  204  719    6   14    5   11   58   49    3   28    1]\n",
      " [   9    3   63   14  103   17    1    0    0   19    0    2    0]\n",
      " [   5    5   96   17    8  309    2    0    0  114    1    1    0]\n",
      " [ 141   12   82   22    1   12   97    4   10    4    6    0    0]\n",
      " [   5    4   44   20    0    1    1  134    0   68    0    0    0]\n",
      " [  12    8   70   99    0    1    2    1  123   54    0    0    0]\n",
      " [  12    4   48   19    0    5    0    0    0 1911    1    0    0]\n",
      " [   3   12   51    9    0    3    2    6    0    2   66    0    0]\n",
      " [   3    6   36  157    1    3    0    2   22  140    0   18    0]\n",
      " [   3    2   31   70    2    9    1    0    0    4    1    4    2]]\n",
      "\n",
      "Naive Bayes Confusion Matrix:\n",
      "[[ 406   18  124   52    2    6    3    2    5  127    0    0    0]\n",
      " [  13  387  173   36    0    1    0    0    4   37    2    0    0]\n",
      " [ 121  177  464  241    7   72    2   23   65  158    3    1    0]\n",
      " [  55   20  174  793    3   11    0    4   62   46    1    0    0]\n",
      " [   8    2  107   15   57   21    0    0    0   21    0    0    0]\n",
      " [   1    2  103   25    4  300    1    0    0  122    0    0    0]\n",
      " [ 191    6  114   34    0   14   12    3    4   13    0    0    0]\n",
      " [   3    8   60   26    0    0    0  110    0   70    0    0    0]\n",
      " [  15    4   83  109    0    2    0    0  106   51    0    0    0]\n",
      " [   8    6   58   21    0    4    0    0    0 1903    0    0    0]\n",
      " [   3   15  101   10    0    2    0    4    0    6   13    0    0]\n",
      " [   7    6   27  180    0    2    0    1   24  139    0    2    0]\n",
      " [   3    4   31   77    1    8    0    0    0    4    1    0    0]]\n"
     ]
    }
   ],
   "source": [
    "print(\"Logistic Regression Accuracy:\", accuracy_score(y_test, y_pred_lr))\n",
    "print(\"Naive Bayes Accuracy:\", accuracy_score(y_test, y_pred_nb))\n",
    "\n",
    "print(\"\\nLogistic Regression Classification Report:\")\n",
    "print(classification_report(y_test, y_pred_lr, zero_division=0))\n",
    "\n",
    "print(\"\\nNaive Bayes Classification Report:\")\n",
    "print(classification_report(y_test, y_pred_nb, zero_division=0))\n",
    "\n",
    "print(\"\\nLogistic Regression Confusion Matrix:\")\n",
    "print(confusion_matrix(y_test, y_pred_lr))\n",
    "\n",
    "print(\"\\nNaive Bayes Confusion Matrix:\")\n",
    "print(confusion_matrix(y_test, y_pred_nb))\n",
    "\n",
    "\n",
    "\n"
   ]
  },
  {
   "cell_type": "code",
   "execution_count": null,
   "id": "21172d24-8b72-4b73-9770-0e25be255694",
   "metadata": {},
   "outputs": [],
   "source": []
  }
 ],
 "metadata": {
  "kernelspec": {
   "display_name": "Python 3 (ipykernel)",
   "language": "python",
   "name": "python3"
  },
  "language_info": {
   "codemirror_mode": {
    "name": "ipython",
    "version": 3
   },
   "file_extension": ".py",
   "mimetype": "text/x-python",
   "name": "python",
   "nbconvert_exporter": "python",
   "pygments_lexer": "ipython3",
   "version": "3.13.3"
  }
 },
 "nbformat": 4,
 "nbformat_minor": 5
}
